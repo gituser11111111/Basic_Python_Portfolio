{
 "cells": [
  {
   "cell_type": "code",
   "execution_count": 1,
   "id": "654c23e5",
   "metadata": {},
   "outputs": [],
   "source": [
    "import smtplib\n",
    "import os\n",
    "from datetime import date\n",
    "from datetime import datetime\n",
    "from datetime import timedelta\n",
    "import time\n",
    "import datetime\n",
    "import openpyxl.utils.datetime\n",
    "from openpyxl import workbook, load_workbook\n",
    "from openpyxl.utils import get_column_letter\n",
    "import pyodbc\n",
    "from datetime import datetime\n",
    "from email.mime.multipart import MIMEMultipart\n",
    "from email.mime.text import MIMEText\n",
    "from email.mime.base import MIMEBase\n",
    "from email import encoders\n",
    "from smtplib import SMTP\n",
    "import pandas as pd\n",
    "import xlsxwriter"
   ]
  },
  {
   "cell_type": "code",
   "execution_count": 2,
   "id": "68a91355",
   "metadata": {},
   "outputs": [],
   "source": [
    "query = '''query1'''"
   ]
  },
  {
   "cell_type": "code",
   "execution_count": 3,
   "id": "3942f1a4",
   "metadata": {},
   "outputs": [],
   "source": [
    "\n",
    "\n",
    "cursor = pyodbc.connect('DRIVER={ODBC Driver 17 for SQL Server};' \n",
    "                          'SERVER=server_name;'\n",
    "                          'DATABASE=database_name;' \n",
    "                          'UID=report_user_name;' \n",
    "                          'PWD=password')"
   ]
  },
  {
   "cell_type": "code",
   "execution_count": 4,
   "id": "596341ed",
   "metadata": {},
   "outputs": [],
   "source": [
    "df = pd.read_sql(query, cursor)"
   ]
  },
  {
   "cell_type": "code",
   "execution_count": 5,
   "id": "88e0e4de",
   "metadata": {},
   "outputs": [],
   "source": [
    "df.set_index(df['invoice_number'], inplace=True)"
   ]
  },
  {
   "cell_type": "code",
   "execution_count": 10,
   "id": "80cf3373",
   "metadata": {},
   "outputs": [],
   "source": [
    "df.reset_index(drop=True, inplace=True)"
   ]
  },
  {
   "cell_type": "code",
   "execution_count": 12,
   "id": "0750f84d",
   "metadata": {},
   "outputs": [],
   "source": [
    "df.set_index(df['invoice_number'], inplace=True)"
   ]
  },
  {
   "cell_type": "code",
   "execution_count": 14,
   "id": "628663f4",
   "metadata": {},
   "outputs": [],
   "source": [
    "df.at['11111-1111', 'Patient_Name']='Test, Test'"
   ]
  },
  {
   "cell_type": "code",
   "execution_count": 7,
   "id": "2a3640ae",
   "metadata": {},
   "outputs": [],
   "source": [
    "query2 = '''query2'''"
   ]
  },
  {
   "cell_type": "code",
   "execution_count": 8,
   "id": "0afc000b",
   "metadata": {},
   "outputs": [],
   "source": [
    "df2 = pd.read_sql(query2, cursor)"
   ]
  },
  {
   "cell_type": "code",
   "execution_count": null,
   "id": "62c3d9ab",
   "metadata": {},
   "outputs": [],
   "source": [
    "df2.loc[df2['invoice_number'] == '000000-test-00000']"
   ]
  },
  {
   "cell_type": "code",
   "execution_count": null,
   "id": "bef0ec31",
   "metadata": {},
   "outputs": [],
   "source": [
    "pd.options.display.max_columns = None"
   ]
  },
  {
   "cell_type": "code",
   "execution_count": null,
   "id": "a6af3df3",
   "metadata": {},
   "outputs": [],
   "source": [
    "df2.loc[df2['invoice_number'] == '000000-test-00000']"
   ]
  },
  {
   "cell_type": "code",
   "execution_count": null,
   "id": "067d77e2",
   "metadata": {},
   "outputs": [],
   "source": [
    "df2.at[236:243, 'Total_Balance_After_Remittance']=0.000"
   ]
  },
  {
   "cell_type": "code",
   "execution_count": null,
   "id": "2453e77f",
   "metadata": {},
   "outputs": [],
   "source": [
    "df2.loc[df2['invoice_number'] == '000000-test-00000']"
   ]
  },
  {
   "cell_type": "code",
   "execution_count": null,
   "id": "41f3e936",
   "metadata": {},
   "outputs": [],
   "source": [
    "negative_balance_query = '''negative_balance_query'''"
   ]
  },
  {
   "cell_type": "code",
   "execution_count": null,
   "id": "1894a844",
   "metadata": {},
   "outputs": [],
   "source": [
    "negative = pd.read_sql(negative_balance_query, cursor)\n",
    "negative.head(3)"
   ]
  },
  {
   "cell_type": "code",
   "execution_count": null,
   "id": "7730cd50",
   "metadata": {},
   "outputs": [],
   "source": [
    "negative.drop(negative[negative['Total_Balance_After_Remittance'] < 0].index, inplace=True)"
   ]
  },
  {
   "cell_type": "code",
   "execution_count": null,
   "id": "8935dd1f",
   "metadata": {},
   "outputs": [],
   "source": [
    "negative"
   ]
  },
  {
   "cell_type": "code",
   "execution_count": 12,
   "id": "5b43f48e",
   "metadata": {},
   "outputs": [],
   "source": [
    "zeroBalance = '''zero_balance_query'''"
   ]
  },
  {
   "cell_type": "code",
   "execution_count": 13,
   "id": "65f1154b",
   "metadata": {},
   "outputs": [],
   "source": [
    "del_zeroBalances = pd.read_sql(zeroBalance, cursor)"
   ]
  },
  {
   "cell_type": "code",
   "execution_count": 14,
   "id": "5500ccb6",
   "metadata": {},
   "outputs": [],
   "source": [
    "dele = del_zeroBalances['invoice_number'].unique()"
   ]
  },
  {
   "cell_type": "code",
   "execution_count": 15,
   "id": "fb380453",
   "metadata": {},
   "outputs": [
    {
     "data": {
      "text/plain": [
       "array([], dtype=object)"
      ]
     },
     "execution_count": 15,
     "metadata": {},
     "output_type": "execute_result"
    }
   ],
   "source": [
    "dele"
   ]
  },
  {
   "cell_type": "code",
   "execution_count": 16,
   "id": "2acc488f",
   "metadata": {},
   "outputs": [],
   "source": [
    "def zeroBalanceDelete(dataframe):\n",
    "    del_zeroBalances = pd.read_sql(zeroBalance, cursor)\n",
    "    df2 = pd.read_sql(query2, cursor)\n",
    "    dele = del_zeroBalances['invoice_number']\n",
    "    for i in dele:\n",
    "        if i in df2['invoice_number']:\n",
    "            df2.drop(df2[df2['invoice_number'] == i].index, inplace=True)\n",
    "    return df2\n",
    "        "
   ]
  },
  {
   "cell_type": "code",
   "execution_count": 18,
   "id": "9a0562de",
   "metadata": {},
   "outputs": [],
   "source": [
    "df2.drop_duplicates(subset=['invoice_number', 'action_type'], keep='first', inplace=True)"
   ]
  },
  {
   "cell_type": "code",
   "execution_count": null,
   "id": "ddfa56f9",
   "metadata": {},
   "outputs": [],
   "source": []
  }
 ],
 "metadata": {
  "kernelspec": {
   "display_name": "Python 3",
   "language": "python",
   "name": "python3"
  },
  "language_info": {
   "codemirror_mode": {
    "name": "ipython",
    "version": 3
   },
   "file_extension": ".py",
   "mimetype": "text/x-python",
   "name": "python",
   "nbconvert_exporter": "python",
   "pygments_lexer": "ipython3",
   "version": "3.8.8"
  }
 },
 "nbformat": 4,
 "nbformat_minor": 5
}
