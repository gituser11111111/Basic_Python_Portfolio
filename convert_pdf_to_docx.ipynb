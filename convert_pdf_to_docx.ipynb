{
 "cells": [
  {
   "cell_type": "code",
   "execution_count": 24,
   "id": "b75a78fa",
   "metadata": {},
   "outputs": [],
   "source": [
    "import smtplib\n",
    "import os\n",
    "import os.path\n",
    "from datetime import date\n",
    "from datetime import datetime\n",
    "from datetime import timedelta\n",
    "import openpyxl.utils.datetime\n",
    "from openpyxl import workbook, load_workbook\n",
    "from openpyxl.utils import get_column_letter\n",
    "import pyodbc\n",
    "from openpyxl.chart import BarChart,Reference\n",
    "from datetime import datetime\n",
    "from email.mime.multipart import MIMEMultipart\n",
    "from email.mime.text import MIMEText\n",
    "from email.mime.base import MIMEBase\n",
    "from email import encoders\n",
    "from smtplib import SMTP\n",
    "import traceback\n",
    "import pandas as pd\n",
    "import xlsxwriter\n",
    "import logging\n",
    "import traceback\n",
    "from traceback import format_exc\n",
    "import PyPDF2\n"
   ]
  },
  {
   "cell_type": "code",
   "execution_count": 25,
   "id": "a10cda0b",
   "metadata": {},
   "outputs": [],
   "source": [
    "mcl_pdf = r'\\\\Users\\wbouley\\User Setup\\Loc 00 - Administration\\Bouley, Wade - MCL - Loc 00 - 8.23.21.pdf'\n",
    "mcl = PyPDF2.PdfFileReader(mcl_pdf)"
   ]
  },
  {
   "cell_type": "code",
   "execution_count": 27,
   "id": "9c5d82c4",
   "metadata": {},
   "outputs": [
    {
     "name": "stdout",
     "output_type": "stream",
     "text": [
      "Manager’s Checklist for New Hires\n",
      "Start Date:  _________\n",
      "First Name: Middle Name: Last Name: \n",
      "Department         Percentage_________________   _________________  _________________  _______ __________  \n",
      "Gender: ______       _      FTE:                  Salary/Hour: \n",
      "Duplicate User Setup  from (Name of Employee): \n",
      "Remove Posting from Portal & Website: ______ Supervisor Name: __________ ______________________    \n",
      "12/01/20________________________________________________  \n",
      " Mon       Tue       Wed      Thu   Fri    Sat        SunStatus:__________________ ____      _____  __   Location:_________________________   Job Title:  _ _____________________________  \n",
      "Cost Center Allocations:\n",
      "   Additional Depts: Other rate (if applicable ):Preferred Name  (if applicable ):\n",
      "Work Phone:__________________     Ext:_______  \n",
      "Is this a shared phone ?\n",
      "Voicemail needed ?\n",
      "Set Schedule:\n",
      "REQUIRED \n",
      "FOR FTE 80%\n",
      "AND ABOVEFile #\n",
      "Union?\n",
      "Additional Comments:Program Name:Exp. Level: _______ On-call Credits:\n",
      "HR Coordinator/Operations Manager___________________________\n"
     ]
    }
   ],
   "source": [
    "def extract_text_from_pdf(pdf_file: str) -> [str]:\n",
    "    with open(pdf_file, 'rb') as pdf:\n",
    "        reader = PyPDF2.PdfFileReader(pdf, strict=False)\n",
    "        pdf_text = []\n",
    "        \n",
    "        for page in reader.pages:\n",
    "            content = page.extract_text()\n",
    "            pdf_text.append(content)\n",
    "            \n",
    "        return pdf_text\n",
    "    \n",
    "if __name__ == '__main__':\n",
    "    extracted_text = extract_text_from_pdf(mcl_pdf)\n",
    "    for text in extracted_text:\n",
    "        print(text)"
   ]
  },
  {
   "cell_type": "code",
   "execution_count": 32,
   "id": "87586b7d",
   "metadata": {},
   "outputs": [],
   "source": [
    "import os\n",
    "import subprocess\n",
    "\n",
    "for top, dirs, files in os.walk(r'\\\\Users\\wbouley\\User Setup\\Loc 00 - Administration\\Bouley, Wade - MCL - Loc 00 - 8.23.21.pdf'):\n",
    "    for filename in files:\n",
    "        if filename.endswith('.pdf'):\n",
    "            abspath = os.path.join(top, filename)\n",
    "            subprocess.call('lowriter --invisible --convert-to doc \"{}\"'\n",
    "                            .format(abspath), shell=True)"
   ]
  },
  {
   "cell_type": "code",
   "execution_count": 34,
   "id": "c783524e",
   "metadata": {},
   "outputs": [
    {
     "name": "stdout",
     "output_type": "stream",
     "text": [
      "Collecting pdf2docx\n",
      "  Downloading pdf2docx-0.5.6-py3-none-any.whl (148 kB)\n",
      "Collecting fire>=0.3.0\n",
      "  Downloading fire-0.4.0.tar.gz (87 kB)\n",
      "Collecting fonttools>=4.24.0\n",
      "  Downloading fonttools-4.38.0-py3-none-any.whl (965 kB)\n",
      "Requirement already satisfied: numpy>=1.17.2 in c:\\users\\wbouley\\anaconda\\lib\\site-packages (from pdf2docx) (1.20.1)\n",
      "Collecting opencv-python>=4.5\n",
      "  Downloading opencv_python-4.6.0.66-cp36-abi3-win_amd64.whl (35.6 MB)\n",
      "Collecting PyMuPDF>=1.19.0\n",
      "  Downloading PyMuPDF-1.21.0-cp38-cp38-win_amd64.whl (11.7 MB)\n",
      "Collecting python-docx>=0.8.10\n",
      "  Downloading python-docx-0.8.11.tar.gz (5.6 MB)\n",
      "Requirement already satisfied: six in c:\\users\\wbouley\\anaconda\\lib\\site-packages (from fire>=0.3.0->pdf2docx) (1.15.0)\n",
      "Collecting termcolor\n",
      "  Downloading termcolor-2.1.1-py3-none-any.whl (6.2 kB)\n",
      "Requirement already satisfied: lxml>=2.3.2 in c:\\users\\wbouley\\anaconda\\lib\\site-packages (from python-docx>=0.8.10->pdf2docx) (4.6.3)\n",
      "Building wheels for collected packages: fire, python-docx\n",
      "  Building wheel for fire (setup.py): started\n",
      "  Building wheel for fire (setup.py): finished with status 'done'\n",
      "  Created wheel for fire: filename=fire-0.4.0-py2.py3-none-any.whl size=115928 sha256=286fd36841d4bd163f4afbfae18053fdacff86b157b64fb3558021062a5a95ba\n",
      "  Stored in directory: c:\\users\\wbouley\\appdata\\local\\pip\\cache\\wheels\\1f\\10\\06\\2a990ee4d73a8479fe2922445e8a876d38cfbfed052284c6a1\n",
      "  Building wheel for python-docx (setup.py): started\n",
      "  Building wheel for python-docx (setup.py): finished with status 'done'\n",
      "  Created wheel for python-docx: filename=python_docx-0.8.11-py3-none-any.whl size=184600 sha256=efce2252d48de73353f2ff31e21a3a37315cda5fea9a401c7701f99cbf3c58db\n",
      "  Stored in directory: c:\\users\\wbouley\\appdata\\local\\pip\\cache\\wheels\\32\\b8\\b2\\c4c2b95765e615fe139b0b17b5ea7c0e1b6519b0a9ec8fb34d\n",
      "Successfully built fire python-docx\n",
      "Installing collected packages: termcolor, python-docx, PyMuPDF, opencv-python, fonttools, fire, pdf2docx\n",
      "Successfully installed PyMuPDF-1.21.0 fire-0.4.0 fonttools-4.38.0 opencv-python-4.6.0.66 pdf2docx-0.5.6 python-docx-0.8.11 termcolor-2.1.1\n",
      "Note: you may need to restart the kernel to use updated packages.\n"
     ]
    }
   ],
   "source": [
    "pip install pdf2docx"
   ]
  },
  {
   "cell_type": "code",
   "execution_count": 35,
   "id": "de8f7b40",
   "metadata": {},
   "outputs": [],
   "source": [
    "from pdf2docx import Converter"
   ]
  },
  {
   "cell_type": "code",
   "execution_count": 62,
   "id": "14cccfc8",
   "metadata": {},
   "outputs": [],
   "source": [
    "path_input = r'C:\\Users\\wbouley\\Documents\\mcl_test_pdf\\Bouley_wade_mcl.pdf'\n",
    "path_output = r'C:\\Users\\wbouley\\Documents\\mcl_test_docx\\bouley_wade_mcl_docx.docx'"
   ]
  },
  {
   "cell_type": "code",
   "execution_count": 64,
   "id": "14816a34",
   "metadata": {},
   "outputs": [
    {
     "name": "stderr",
     "output_type": "stream",
     "text": [
      "[INFO] Start to convert C:\\Users\\wbouley\\Documents\\mcl_test_pdf\\Bouley_wade_mcl.pdf\n",
      "[INFO] \u001b[1;36m[1/4] Opening document...\u001b[0m\n",
      "[INFO] \u001b[1;36m[2/4] Analyzing document...\u001b[0m\n",
      "[INFO] \u001b[1;36m[3/4] Parsing pages...\u001b[0m\n",
      "[INFO] (1/1) Page 1\n",
      "[INFO] \u001b[1;36m[4/4] Creating pages...\u001b[0m\n",
      "[INFO] (1/1) Page 1\n",
      "[INFO] Terminated in 2.51s.\n"
     ]
    }
   ],
   "source": [
    "\n",
    "cv = Converter(path_input)\n",
    "cv.convert(path_output)\n",
    "cv.close()"
   ]
  },
  {
   "cell_type": "code",
   "execution_count": 58,
   "id": "70721740",
   "metadata": {},
   "outputs": [
    {
     "name": "stderr",
     "output_type": "stream",
     "text": [
      "[INFO] Start to convert C:\\Users\\wbouley\\Documents\\mcl_test_pdf/Bouley_wade_mcl.pdf\n",
      "[INFO] \u001b[1;36m[1/4] Opening document...\u001b[0m\n",
      "[INFO] \u001b[1;36m[2/4] Analyzing document...\u001b[0m\n",
      "[INFO] \u001b[1;36m[3/4] Parsing pages...\u001b[0m\n",
      "[INFO] (1/1) Page 1\n",
      "[INFO] \u001b[1;36m[4/4] Creating pages...\u001b[0m\n",
      "[INFO] (1/1) Page 1\n",
      "[INFO] Terminated in 2.53s.\n"
     ]
    }
   ],
   "source": [
    "from pdf2docx import parse\n",
    "pdf_mcl = r'C:\\Users\\wbouley\\Documents\\mcl_test_pdf/Bouley_wade_mcl.pdf'\n",
    "word_mcl = r'C:\\Users\\wbouley\\Documents\\mcl_test_docx\\bouley_wade_mcl'\n",
    "\n",
    "parse(pdf_mcl, word_mcl, start=0, end=None)"
   ]
  },
  {
   "cell_type": "code",
   "execution_count": 60,
   "id": "09cd6224",
   "metadata": {},
   "outputs": [],
   "source": [
    "import docx\n",
    "\n",
    "mydoc = docx.Document() # document type\n",
    "pdfFileObj = open(r'C:\\Users\\wbouley\\Documents\\mcl_test_pdf\\Bouley_wade_mcl.pdf', 'rb') # pdffile loction\n",
    "pdfReader = PyPDF2.PdfFileReader(pdfFileObj) # define pdf reader object\n",
    "\n",
    "# Loop through all the pages\n",
    "\n",
    "for pageNum in range(1, pdfReader.numPages):\n",
    "        pageObj = pdfReader.getPage(pageNum)\n",
    "        pdfContent = pageObj.extractText()  #extracts the content from the page. \n",
    "        print(pdfContent) # print statement to test output in the terminal. codeline optional.\n",
    "        mydoc.add_paragraph(pdfContent) # this adds the content to the word document\n",
    "        \n",
    "mydoc.save(r\"C:\\Users\\wbouley\\Documents\\mcl_test_docx\\bouley_wade_mcl.docx\") # Give a name to your output file. "
   ]
  },
  {
   "cell_type": "code",
   "execution_count": 65,
   "id": "889d594c",
   "metadata": {},
   "outputs": [
    {
     "name": "stdout",
     "output_type": "stream",
     "text": [
      "Collecting docxtpl\n",
      "  Using cached docxtpl-0.16.4-py2.py3-none-any.whl (28 kB)\n",
      "Requirement already satisfied: lxml in c:\\users\\wbouley\\anaconda\\lib\\site-packages (from docxtpl) (4.6.3)\n",
      "Requirement already satisfied: python-docx in c:\\users\\wbouley\\anaconda\\lib\\site-packages (from docxtpl) (0.8.11)\n",
      "Requirement already satisfied: six in c:\\users\\wbouley\\anaconda\\lib\\site-packages (from docxtpl) (1.15.0)\n",
      "Collecting docxcompose\n",
      "  Using cached docxcompose-1.3.7.tar.gz (19 kB)\n",
      "Requirement already satisfied: jinja2 in c:\\users\\wbouley\\anaconda\\lib\\site-packages (from docxtpl) (2.11.3)\n",
      "Requirement already satisfied: setuptools in c:\\users\\wbouley\\anaconda\\lib\\site-packages (from docxcompose->docxtpl) (52.0.0.post20210125)\n",
      "Requirement already satisfied: babel in c:\\users\\wbouley\\anaconda\\lib\\site-packages (from docxcompose->docxtpl) (2.9.0)\n",
      "Requirement already satisfied: pytz>=2015.7 in c:\\users\\wbouley\\anaconda\\lib\\site-packages (from babel->docxcompose->docxtpl) (2021.1)\n",
      "Requirement already satisfied: MarkupSafe>=0.23 in c:\\users\\wbouley\\anaconda\\lib\\site-packages (from jinja2->docxtpl) (1.1.1)\n",
      "Building wheels for collected packages: docxcompose\n",
      "  Building wheel for docxcompose (setup.py): started\n",
      "  Building wheel for docxcompose (setup.py): finished with status 'done'\n",
      "  Created wheel for docxcompose: filename=docxcompose-1.3.7-py3-none-any.whl size=22441 sha256=e8f227afd62d5700b2cbee771535ddeae42c8a02db17ad7fd8f7bb0c90954c46\n",
      "  Stored in directory: c:\\users\\wbouley\\appdata\\local\\pip\\cache\\wheels\\bf\\c3\\e4\\e46bf4bb79f3ec7dd616ea74c41983e9794ec677907d77fc88\n",
      "Successfully built docxcompose\n",
      "Installing collected packages: docxcompose, docxtpl\n",
      "Successfully installed docxcompose-1.3.7 docxtpl-0.16.4\n",
      "Note: you may need to restart the kernel to use updated packages.\n"
     ]
    }
   ],
   "source": [
    "pip install docxtpl"
   ]
  },
  {
   "cell_type": "code",
   "execution_count": 66,
   "id": "072f64a0",
   "metadata": {},
   "outputs": [],
   "source": [
    "import os, sys\n",
    "from docxtpl import DocxTemplate"
   ]
  },
  {
   "cell_type": "code",
   "execution_count": null,
   "id": "37578052",
   "metadata": {},
   "outputs": [],
   "source": []
  }
 ],
 "metadata": {
  "kernelspec": {
   "display_name": "Python 3",
   "language": "python",
   "name": "python3"
  },
  "language_info": {
   "codemirror_mode": {
    "name": "ipython",
    "version": 3
   },
   "file_extension": ".py",
   "mimetype": "text/x-python",
   "name": "python",
   "nbconvert_exporter": "python",
   "pygments_lexer": "ipython3",
   "version": "3.8.8"
  }
 },
 "nbformat": 4,
 "nbformat_minor": 5
}
