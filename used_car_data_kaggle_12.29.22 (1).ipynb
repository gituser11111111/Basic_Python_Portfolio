{
 "cells": [
  {
   "cell_type": "markdown",
   "id": "bfb4a6ec",
   "metadata": {},
   "source": [
    "# Hello, today I'm going to go through a used car dataset downloaded from Kaggle. I'm going to be cleaning and modifying the data so that I can use it for data visualization."
   ]
  },
  {
   "cell_type": "code",
   "execution_count": 2,
   "id": "5cda31e5",
   "metadata": {},
   "outputs": [],
   "source": [
    "import pandas as pd\n",
    "import numpy as np"
   ]
  },
  {
   "cell_type": "code",
   "execution_count": 3,
   "id": "17017737",
   "metadata": {},
   "outputs": [],
   "source": [
    "import xlsxwriter\n",
    "import openpyxl"
   ]
  },
  {
   "cell_type": "markdown",
   "id": "9eb6ad5b",
   "metadata": {},
   "source": [
    "## Below, I load the dataset using the pandas library."
   ]
  },
  {
   "cell_type": "code",
   "execution_count": 4,
   "id": "b6abe440",
   "metadata": {},
   "outputs": [],
   "source": [
    "df = pd.read_csv(r'C:\\Users\\wbouley\\Desktop\\Portfolio\\Other_CSVs\\car_price.csv')"
   ]
  },
  {
   "cell_type": "code",
   "execution_count": 5,
   "id": "f1fc1374",
   "metadata": {},
   "outputs": [
    {
     "data": {
      "text/html": [
       "<div>\n",
       "<style scoped>\n",
       "    .dataframe tbody tr th:only-of-type {\n",
       "        vertical-align: middle;\n",
       "    }\n",
       "\n",
       "    .dataframe tbody tr th {\n",
       "        vertical-align: top;\n",
       "    }\n",
       "\n",
       "    .dataframe thead th {\n",
       "        text-align: right;\n",
       "    }\n",
       "</style>\n",
       "<table border=\"1\" class=\"dataframe\">\n",
       "  <thead>\n",
       "    <tr style=\"text-align: right;\">\n",
       "      <th></th>\n",
       "      <th>Unnamed: 0</th>\n",
       "      <th>car_name</th>\n",
       "      <th>car_prices_in_rupee</th>\n",
       "      <th>kms_driven</th>\n",
       "      <th>fuel_type</th>\n",
       "      <th>transmission</th>\n",
       "      <th>ownership</th>\n",
       "      <th>manufacture</th>\n",
       "      <th>engine</th>\n",
       "      <th>Seats</th>\n",
       "    </tr>\n",
       "  </thead>\n",
       "  <tbody>\n",
       "    <tr>\n",
       "      <th>0</th>\n",
       "      <td>0</td>\n",
       "      <td>Jeep Compass 2.0 Longitude Option BSIV</td>\n",
       "      <td>10.03 Lakh</td>\n",
       "      <td>86,226 kms</td>\n",
       "      <td>Diesel</td>\n",
       "      <td>Manual</td>\n",
       "      <td>1st Owner</td>\n",
       "      <td>2017</td>\n",
       "      <td>1956 cc</td>\n",
       "      <td>5 Seats</td>\n",
       "    </tr>\n",
       "    <tr>\n",
       "      <th>1</th>\n",
       "      <td>1</td>\n",
       "      <td>Renault Duster RXZ Turbo CVT</td>\n",
       "      <td>12.83 Lakh</td>\n",
       "      <td>13,248 kms</td>\n",
       "      <td>Petrol</td>\n",
       "      <td>Automatic</td>\n",
       "      <td>1st Owner</td>\n",
       "      <td>2021</td>\n",
       "      <td>1330 cc</td>\n",
       "      <td>5 Seats</td>\n",
       "    </tr>\n",
       "    <tr>\n",
       "      <th>2</th>\n",
       "      <td>2</td>\n",
       "      <td>Toyota Camry 2.5 G</td>\n",
       "      <td>16.40 Lakh</td>\n",
       "      <td>60,343 kms</td>\n",
       "      <td>Petrol</td>\n",
       "      <td>Automatic</td>\n",
       "      <td>1st Owner</td>\n",
       "      <td>2016</td>\n",
       "      <td>2494 cc</td>\n",
       "      <td>5 Seats</td>\n",
       "    </tr>\n",
       "    <tr>\n",
       "      <th>3</th>\n",
       "      <td>3</td>\n",
       "      <td>Honda Jazz VX CVT</td>\n",
       "      <td>7.77 Lakh</td>\n",
       "      <td>26,696 kms</td>\n",
       "      <td>Petrol</td>\n",
       "      <td>Automatic</td>\n",
       "      <td>1st Owner</td>\n",
       "      <td>2018</td>\n",
       "      <td>1199 cc</td>\n",
       "      <td>5 Seats</td>\n",
       "    </tr>\n",
       "    <tr>\n",
       "      <th>4</th>\n",
       "      <td>4</td>\n",
       "      <td>Volkswagen Polo 1.2 MPI Highline</td>\n",
       "      <td>5.15 Lakh</td>\n",
       "      <td>69,414 kms</td>\n",
       "      <td>Petrol</td>\n",
       "      <td>Manual</td>\n",
       "      <td>1st Owner</td>\n",
       "      <td>2016</td>\n",
       "      <td>1199 cc</td>\n",
       "      <td>5 Seats</td>\n",
       "    </tr>\n",
       "  </tbody>\n",
       "</table>\n",
       "</div>"
      ],
      "text/plain": [
       "   Unnamed: 0                                car_name car_prices_in_rupee  \\\n",
       "0           0  Jeep Compass 2.0 Longitude Option BSIV          10.03 Lakh   \n",
       "1           1            Renault Duster RXZ Turbo CVT          12.83 Lakh   \n",
       "2           2                      Toyota Camry 2.5 G          16.40 Lakh   \n",
       "3           3                       Honda Jazz VX CVT           7.77 Lakh   \n",
       "4           4        Volkswagen Polo 1.2 MPI Highline           5.15 Lakh   \n",
       "\n",
       "   kms_driven fuel_type transmission  ownership  manufacture   engine    Seats  \n",
       "0  86,226 kms    Diesel       Manual  1st Owner         2017  1956 cc  5 Seats  \n",
       "1  13,248 kms    Petrol    Automatic  1st Owner         2021  1330 cc  5 Seats  \n",
       "2  60,343 kms    Petrol    Automatic  1st Owner         2016  2494 cc  5 Seats  \n",
       "3  26,696 kms    Petrol    Automatic  1st Owner         2018  1199 cc  5 Seats  \n",
       "4  69,414 kms    Petrol       Manual  1st Owner         2016  1199 cc  5 Seats  "
      ]
     },
     "execution_count": 5,
     "metadata": {},
     "output_type": "execute_result"
    }
   ],
   "source": [
    "df.head()"
   ]
  },
  {
   "cell_type": "markdown",
   "id": "678a6c51",
   "metadata": {},
   "source": [
    "## Now, I'm going to check the data types of each column to see what I'm working with."
   ]
  },
  {
   "cell_type": "code",
   "execution_count": 6,
   "id": "73512bfc",
   "metadata": {},
   "outputs": [
    {
     "data": {
      "text/plain": [
       "Unnamed: 0              int64\n",
       "car_name               object\n",
       "car_prices_in_rupee    object\n",
       "kms_driven             object\n",
       "fuel_type              object\n",
       "transmission           object\n",
       "ownership              object\n",
       "manufacture             int64\n",
       "engine                 object\n",
       "Seats                  object\n",
       "dtype: object"
      ]
     },
     "execution_count": 6,
     "metadata": {},
     "output_type": "execute_result"
    }
   ],
   "source": [
    "df.dtypes"
   ]
  },
  {
   "cell_type": "markdown",
   "id": "17f6083a",
   "metadata": {},
   "source": [
    "## Since the currency is in Rupee's (\"INR\"), and I am most familiar with USD, I need to create a function that will convert the currency to USD."
   ]
  },
  {
   "cell_type": "code",
   "execution_count": 7,
   "id": "1823e0c8",
   "metadata": {},
   "outputs": [],
   "source": [
    "'''Function to convert rupees to USD'''\n",
    "\n",
    "def convert_to_usd(value):\n",
    "    # Remove the ' Lakh' suffix from the value\n",
    "    value = value[:-5]\n",
    "    # Convert the value to a float\n",
    "    value = float(value)\n",
    "    # Convert the value from rupees to USD using the current exchange rate\n",
    "    value = (value*100000)*0.012\n",
    "\n",
    "    return value\n",
    "\n",
    "values = df['car_prices_in_rupee']\n",
    "usd_values = [convert_to_usd(value) for value in values]"
   ]
  },
  {
   "cell_type": "markdown",
   "id": "e4a928b9",
   "metadata": {},
   "source": [
    "## After the function is defined and run, I need to create a column that lists the prices of each  car in each row of the dataset. I do use by using the code in the cell below. Then, I check to see if the column was created by calling the df.columns method."
   ]
  },
  {
   "cell_type": "code",
   "execution_count": 8,
   "id": "2eef3b39",
   "metadata": {},
   "outputs": [],
   "source": [
    "df['car_price_usd'] = usd_values"
   ]
  },
  {
   "cell_type": "code",
   "execution_count": 9,
   "id": "e1bc205a",
   "metadata": {},
   "outputs": [
    {
     "data": {
      "text/plain": [
       "Index(['Unnamed: 0', 'car_name', 'car_prices_in_rupee', 'kms_driven',\n",
       "       'fuel_type', 'transmission', 'ownership', 'manufacture', 'engine',\n",
       "       'Seats', 'car_price_usd'],\n",
       "      dtype='object')"
      ]
     },
     "execution_count": 9,
     "metadata": {},
     "output_type": "execute_result"
    }
   ],
   "source": [
    "df.columns"
   ]
  },
  {
   "cell_type": "markdown",
   "id": "946b07c5",
   "metadata": {},
   "source": [
    "## I see that I now have another column that I don't want: 'Unnamed: 0'. I'll call the df.drop() method to remove that column. I don't want to create a new dataframe so I set inplace=True. Axis=1 drops the column while axis=0 means drop the row."
   ]
  },
  {
   "cell_type": "code",
   "execution_count": 10,
   "id": "0ff9a8bc",
   "metadata": {},
   "outputs": [],
   "source": [
    "df.drop(['Unnamed: 0', 'car_prices_in_rupee'], axis=1, inplace=True)"
   ]
  },
  {
   "cell_type": "code",
   "execution_count": 11,
   "id": "f75c35c5",
   "metadata": {},
   "outputs": [
    {
     "data": {
      "text/plain": [
       "Index(['car_name', 'kms_driven', 'fuel_type', 'transmission', 'ownership',\n",
       "       'manufacture', 'engine', 'Seats', 'car_price_usd'],\n",
       "      dtype='object')"
      ]
     },
     "execution_count": 11,
     "metadata": {},
     "output_type": "execute_result"
    }
   ],
   "source": [
    "df.columns"
   ]
  },
  {
   "cell_type": "code",
   "execution_count": 12,
   "id": "7ad83e7c",
   "metadata": {},
   "outputs": [
    {
     "data": {
      "text/html": [
       "<div>\n",
       "<style scoped>\n",
       "    .dataframe tbody tr th:only-of-type {\n",
       "        vertical-align: middle;\n",
       "    }\n",
       "\n",
       "    .dataframe tbody tr th {\n",
       "        vertical-align: top;\n",
       "    }\n",
       "\n",
       "    .dataframe thead th {\n",
       "        text-align: right;\n",
       "    }\n",
       "</style>\n",
       "<table border=\"1\" class=\"dataframe\">\n",
       "  <thead>\n",
       "    <tr style=\"text-align: right;\">\n",
       "      <th></th>\n",
       "      <th>car_name</th>\n",
       "      <th>kms_driven</th>\n",
       "      <th>fuel_type</th>\n",
       "      <th>transmission</th>\n",
       "      <th>ownership</th>\n",
       "      <th>manufacture</th>\n",
       "      <th>engine</th>\n",
       "      <th>Seats</th>\n",
       "      <th>car_price_usd</th>\n",
       "    </tr>\n",
       "  </thead>\n",
       "  <tbody>\n",
       "    <tr>\n",
       "      <th>0</th>\n",
       "      <td>Jeep Compass 2.0 Longitude Option BSIV</td>\n",
       "      <td>86,226 kms</td>\n",
       "      <td>Diesel</td>\n",
       "      <td>Manual</td>\n",
       "      <td>1st Owner</td>\n",
       "      <td>2017</td>\n",
       "      <td>1956 cc</td>\n",
       "      <td>5 Seats</td>\n",
       "      <td>12036.0</td>\n",
       "    </tr>\n",
       "    <tr>\n",
       "      <th>1</th>\n",
       "      <td>Renault Duster RXZ Turbo CVT</td>\n",
       "      <td>13,248 kms</td>\n",
       "      <td>Petrol</td>\n",
       "      <td>Automatic</td>\n",
       "      <td>1st Owner</td>\n",
       "      <td>2021</td>\n",
       "      <td>1330 cc</td>\n",
       "      <td>5 Seats</td>\n",
       "      <td>15396.0</td>\n",
       "    </tr>\n",
       "    <tr>\n",
       "      <th>2</th>\n",
       "      <td>Toyota Camry 2.5 G</td>\n",
       "      <td>60,343 kms</td>\n",
       "      <td>Petrol</td>\n",
       "      <td>Automatic</td>\n",
       "      <td>1st Owner</td>\n",
       "      <td>2016</td>\n",
       "      <td>2494 cc</td>\n",
       "      <td>5 Seats</td>\n",
       "      <td>19680.0</td>\n",
       "    </tr>\n",
       "    <tr>\n",
       "      <th>3</th>\n",
       "      <td>Honda Jazz VX CVT</td>\n",
       "      <td>26,696 kms</td>\n",
       "      <td>Petrol</td>\n",
       "      <td>Automatic</td>\n",
       "      <td>1st Owner</td>\n",
       "      <td>2018</td>\n",
       "      <td>1199 cc</td>\n",
       "      <td>5 Seats</td>\n",
       "      <td>9324.0</td>\n",
       "    </tr>\n",
       "    <tr>\n",
       "      <th>4</th>\n",
       "      <td>Volkswagen Polo 1.2 MPI Highline</td>\n",
       "      <td>69,414 kms</td>\n",
       "      <td>Petrol</td>\n",
       "      <td>Manual</td>\n",
       "      <td>1st Owner</td>\n",
       "      <td>2016</td>\n",
       "      <td>1199 cc</td>\n",
       "      <td>5 Seats</td>\n",
       "      <td>6180.0</td>\n",
       "    </tr>\n",
       "  </tbody>\n",
       "</table>\n",
       "</div>"
      ],
      "text/plain": [
       "                                 car_name  kms_driven fuel_type transmission  \\\n",
       "0  Jeep Compass 2.0 Longitude Option BSIV  86,226 kms    Diesel       Manual   \n",
       "1            Renault Duster RXZ Turbo CVT  13,248 kms    Petrol    Automatic   \n",
       "2                      Toyota Camry 2.5 G  60,343 kms    Petrol    Automatic   \n",
       "3                       Honda Jazz VX CVT  26,696 kms    Petrol    Automatic   \n",
       "4        Volkswagen Polo 1.2 MPI Highline  69,414 kms    Petrol       Manual   \n",
       "\n",
       "   ownership  manufacture   engine    Seats  car_price_usd  \n",
       "0  1st Owner         2017  1956 cc  5 Seats        12036.0  \n",
       "1  1st Owner         2021  1330 cc  5 Seats        15396.0  \n",
       "2  1st Owner         2016  2494 cc  5 Seats        19680.0  \n",
       "3  1st Owner         2018  1199 cc  5 Seats         9324.0  \n",
       "4  1st Owner         2016  1199 cc  5 Seats         6180.0  "
      ]
     },
     "execution_count": 12,
     "metadata": {},
     "output_type": "execute_result"
    }
   ],
   "source": [
    "df.head()"
   ]
  },
  {
   "cell_type": "markdown",
   "id": "d0067c8c",
   "metadata": {},
   "source": [
    "## I see that I have a column in the dataset that uses kilometers as a measurement. I need to convert this to miles. I do so by using the below code."
   ]
  },
  {
   "cell_type": "code",
   "execution_count": 13,
   "id": "a4d1f2b4",
   "metadata": {},
   "outputs": [],
   "source": [
    "df['kms_driven'] = df['kms_driven'].str.replace(',', '')"
   ]
  },
  {
   "cell_type": "code",
   "execution_count": 14,
   "id": "ce4e83cd",
   "metadata": {},
   "outputs": [],
   "source": [
    "def convert_to_miles(value):\n",
    "    # Remove the ' Lakh' suffix from the value\n",
    "    value = value[:-4]\n",
    "    # Convert the value to a float\n",
    "    value = float(value)\n",
    "    # Convert the value from rupees to USD using the current exchange rate\n",
    "    value = value*(1.60934-1)\n",
    "\n",
    "    return value\n",
    "\n",
    "values = df['kms_driven']\n",
    "miles_driven = [convert_to_miles(value) for value in values]\n",
    "\n",
    "df['miles_driven'] = miles_driven"
   ]
  },
  {
   "cell_type": "markdown",
   "id": "75f65823",
   "metadata": {},
   "source": [
    "## After I converted the kilometers column to a new miles column, I need to remove the df['kms_driven'] column. I use the df.drop() method similar to what I did before. Once again, I use the inplace=True and axis=1 arguments to keep the same dataframe and drop the df['kms_driven'] column."
   ]
  },
  {
   "cell_type": "code",
   "execution_count": 15,
   "id": "7afabc1c",
   "metadata": {},
   "outputs": [],
   "source": [
    "df.drop('kms_driven', axis=1, inplace=True)"
   ]
  },
  {
   "cell_type": "code",
   "execution_count": 16,
   "id": "cec9c226",
   "metadata": {},
   "outputs": [
    {
     "data": {
      "text/html": [
       "<div>\n",
       "<style scoped>\n",
       "    .dataframe tbody tr th:only-of-type {\n",
       "        vertical-align: middle;\n",
       "    }\n",
       "\n",
       "    .dataframe tbody tr th {\n",
       "        vertical-align: top;\n",
       "    }\n",
       "\n",
       "    .dataframe thead th {\n",
       "        text-align: right;\n",
       "    }\n",
       "</style>\n",
       "<table border=\"1\" class=\"dataframe\">\n",
       "  <thead>\n",
       "    <tr style=\"text-align: right;\">\n",
       "      <th></th>\n",
       "      <th>car_name</th>\n",
       "      <th>fuel_type</th>\n",
       "      <th>transmission</th>\n",
       "      <th>ownership</th>\n",
       "      <th>manufacture</th>\n",
       "      <th>engine</th>\n",
       "      <th>Seats</th>\n",
       "      <th>car_price_usd</th>\n",
       "      <th>miles_driven</th>\n",
       "    </tr>\n",
       "  </thead>\n",
       "  <tbody>\n",
       "    <tr>\n",
       "      <th>0</th>\n",
       "      <td>Jeep Compass 2.0 Longitude Option BSIV</td>\n",
       "      <td>Diesel</td>\n",
       "      <td>Manual</td>\n",
       "      <td>1st Owner</td>\n",
       "      <td>2017</td>\n",
       "      <td>1956 cc</td>\n",
       "      <td>5 Seats</td>\n",
       "      <td>12036.0</td>\n",
       "      <td>52540.95084</td>\n",
       "    </tr>\n",
       "    <tr>\n",
       "      <th>1</th>\n",
       "      <td>Renault Duster RXZ Turbo CVT</td>\n",
       "      <td>Petrol</td>\n",
       "      <td>Automatic</td>\n",
       "      <td>1st Owner</td>\n",
       "      <td>2021</td>\n",
       "      <td>1330 cc</td>\n",
       "      <td>5 Seats</td>\n",
       "      <td>15396.0</td>\n",
       "      <td>8072.53632</td>\n",
       "    </tr>\n",
       "    <tr>\n",
       "      <th>2</th>\n",
       "      <td>Toyota Camry 2.5 G</td>\n",
       "      <td>Petrol</td>\n",
       "      <td>Automatic</td>\n",
       "      <td>1st Owner</td>\n",
       "      <td>2016</td>\n",
       "      <td>2494 cc</td>\n",
       "      <td>5 Seats</td>\n",
       "      <td>19680.0</td>\n",
       "      <td>36769.40362</td>\n",
       "    </tr>\n",
       "    <tr>\n",
       "      <th>3</th>\n",
       "      <td>Honda Jazz VX CVT</td>\n",
       "      <td>Petrol</td>\n",
       "      <td>Automatic</td>\n",
       "      <td>1st Owner</td>\n",
       "      <td>2018</td>\n",
       "      <td>1199 cc</td>\n",
       "      <td>5 Seats</td>\n",
       "      <td>9324.0</td>\n",
       "      <td>16266.94064</td>\n",
       "    </tr>\n",
       "    <tr>\n",
       "      <th>4</th>\n",
       "      <td>Volkswagen Polo 1.2 MPI Highline</td>\n",
       "      <td>Petrol</td>\n",
       "      <td>Manual</td>\n",
       "      <td>1st Owner</td>\n",
       "      <td>2016</td>\n",
       "      <td>1199 cc</td>\n",
       "      <td>5 Seats</td>\n",
       "      <td>6180.0</td>\n",
       "      <td>42296.72676</td>\n",
       "    </tr>\n",
       "  </tbody>\n",
       "</table>\n",
       "</div>"
      ],
      "text/plain": [
       "                                 car_name fuel_type transmission  ownership  \\\n",
       "0  Jeep Compass 2.0 Longitude Option BSIV    Diesel       Manual  1st Owner   \n",
       "1            Renault Duster RXZ Turbo CVT    Petrol    Automatic  1st Owner   \n",
       "2                      Toyota Camry 2.5 G    Petrol    Automatic  1st Owner   \n",
       "3                       Honda Jazz VX CVT    Petrol    Automatic  1st Owner   \n",
       "4        Volkswagen Polo 1.2 MPI Highline    Petrol       Manual  1st Owner   \n",
       "\n",
       "   manufacture   engine    Seats  car_price_usd  miles_driven  \n",
       "0         2017  1956 cc  5 Seats        12036.0   52540.95084  \n",
       "1         2021  1330 cc  5 Seats        15396.0    8072.53632  \n",
       "2         2016  2494 cc  5 Seats        19680.0   36769.40362  \n",
       "3         2018  1199 cc  5 Seats         9324.0   16266.94064  \n",
       "4         2016  1199 cc  5 Seats         6180.0   42296.72676  "
      ]
     },
     "execution_count": 16,
     "metadata": {},
     "output_type": "execute_result"
    }
   ],
   "source": [
    "df.head()"
   ]
  },
  {
   "cell_type": "markdown",
   "id": "f1738f16",
   "metadata": {},
   "source": [
    "## I don't like the 'Petrol' fuel type, so I'm going to change it to Gasoline. Below, I use a lambda function to change every instance of Petrol in the dataframe to Gasoline."
   ]
  },
  {
   "cell_type": "code",
   "execution_count": 17,
   "id": "8e52e693",
   "metadata": {},
   "outputs": [
    {
     "data": {
      "text/plain": [
       "array(['Diesel', 'Petrol', 'Cng', 'Electric', 'Lpg'], dtype=object)"
      ]
     },
     "execution_count": 17,
     "metadata": {},
     "output_type": "execute_result"
    }
   ],
   "source": [
    "df['fuel_type'].unique()"
   ]
  },
  {
   "cell_type": "code",
   "execution_count": 18,
   "id": "125f0d03",
   "metadata": {},
   "outputs": [],
   "source": [
    "df['fuel_type'] = df['fuel_type'].apply(lambda x: 'Gasoline' if x == 'Petrol' else x)"
   ]
  },
  {
   "cell_type": "code",
   "execution_count": 19,
   "id": "eb520751",
   "metadata": {},
   "outputs": [
    {
     "data": {
      "text/html": [
       "<div>\n",
       "<style scoped>\n",
       "    .dataframe tbody tr th:only-of-type {\n",
       "        vertical-align: middle;\n",
       "    }\n",
       "\n",
       "    .dataframe tbody tr th {\n",
       "        vertical-align: top;\n",
       "    }\n",
       "\n",
       "    .dataframe thead th {\n",
       "        text-align: right;\n",
       "    }\n",
       "</style>\n",
       "<table border=\"1\" class=\"dataframe\">\n",
       "  <thead>\n",
       "    <tr style=\"text-align: right;\">\n",
       "      <th></th>\n",
       "      <th>car_name</th>\n",
       "      <th>fuel_type</th>\n",
       "      <th>transmission</th>\n",
       "      <th>ownership</th>\n",
       "      <th>manufacture</th>\n",
       "      <th>engine</th>\n",
       "      <th>Seats</th>\n",
       "      <th>car_price_usd</th>\n",
       "      <th>miles_driven</th>\n",
       "    </tr>\n",
       "  </thead>\n",
       "  <tbody>\n",
       "    <tr>\n",
       "      <th>0</th>\n",
       "      <td>Jeep Compass 2.0 Longitude Option BSIV</td>\n",
       "      <td>Diesel</td>\n",
       "      <td>Manual</td>\n",
       "      <td>1st Owner</td>\n",
       "      <td>2017</td>\n",
       "      <td>1956 cc</td>\n",
       "      <td>5 Seats</td>\n",
       "      <td>12036.0</td>\n",
       "      <td>52540.95084</td>\n",
       "    </tr>\n",
       "    <tr>\n",
       "      <th>1</th>\n",
       "      <td>Renault Duster RXZ Turbo CVT</td>\n",
       "      <td>Gasoline</td>\n",
       "      <td>Automatic</td>\n",
       "      <td>1st Owner</td>\n",
       "      <td>2021</td>\n",
       "      <td>1330 cc</td>\n",
       "      <td>5 Seats</td>\n",
       "      <td>15396.0</td>\n",
       "      <td>8072.53632</td>\n",
       "    </tr>\n",
       "    <tr>\n",
       "      <th>2</th>\n",
       "      <td>Toyota Camry 2.5 G</td>\n",
       "      <td>Gasoline</td>\n",
       "      <td>Automatic</td>\n",
       "      <td>1st Owner</td>\n",
       "      <td>2016</td>\n",
       "      <td>2494 cc</td>\n",
       "      <td>5 Seats</td>\n",
       "      <td>19680.0</td>\n",
       "      <td>36769.40362</td>\n",
       "    </tr>\n",
       "    <tr>\n",
       "      <th>3</th>\n",
       "      <td>Honda Jazz VX CVT</td>\n",
       "      <td>Gasoline</td>\n",
       "      <td>Automatic</td>\n",
       "      <td>1st Owner</td>\n",
       "      <td>2018</td>\n",
       "      <td>1199 cc</td>\n",
       "      <td>5 Seats</td>\n",
       "      <td>9324.0</td>\n",
       "      <td>16266.94064</td>\n",
       "    </tr>\n",
       "    <tr>\n",
       "      <th>4</th>\n",
       "      <td>Volkswagen Polo 1.2 MPI Highline</td>\n",
       "      <td>Gasoline</td>\n",
       "      <td>Manual</td>\n",
       "      <td>1st Owner</td>\n",
       "      <td>2016</td>\n",
       "      <td>1199 cc</td>\n",
       "      <td>5 Seats</td>\n",
       "      <td>6180.0</td>\n",
       "      <td>42296.72676</td>\n",
       "    </tr>\n",
       "  </tbody>\n",
       "</table>\n",
       "</div>"
      ],
      "text/plain": [
       "                                 car_name fuel_type transmission  ownership  \\\n",
       "0  Jeep Compass 2.0 Longitude Option BSIV    Diesel       Manual  1st Owner   \n",
       "1            Renault Duster RXZ Turbo CVT  Gasoline    Automatic  1st Owner   \n",
       "2                      Toyota Camry 2.5 G  Gasoline    Automatic  1st Owner   \n",
       "3                       Honda Jazz VX CVT  Gasoline    Automatic  1st Owner   \n",
       "4        Volkswagen Polo 1.2 MPI Highline  Gasoline       Manual  1st Owner   \n",
       "\n",
       "   manufacture   engine    Seats  car_price_usd  miles_driven  \n",
       "0         2017  1956 cc  5 Seats        12036.0   52540.95084  \n",
       "1         2021  1330 cc  5 Seats        15396.0    8072.53632  \n",
       "2         2016  2494 cc  5 Seats        19680.0   36769.40362  \n",
       "3         2018  1199 cc  5 Seats         9324.0   16266.94064  \n",
       "4         2016  1199 cc  5 Seats         6180.0   42296.72676  "
      ]
     },
     "execution_count": 19,
     "metadata": {},
     "output_type": "execute_result"
    }
   ],
   "source": [
    "df.head()"
   ]
  },
  {
   "cell_type": "markdown",
   "id": "6697a402",
   "metadata": {},
   "source": [
    "## I keep using the df.head() method to verify that the changes have been made correctly. Now I would like to rename a couple of columns to make it a little bit cleaner. I use the df.rename() method to create a new dataframe."
   ]
  },
  {
   "cell_type": "code",
   "execution_count": 20,
   "id": "e23a420b",
   "metadata": {},
   "outputs": [],
   "source": [
    "df = df.rename(columns={'manufacture': 'year', 'Seats': 'seats'})"
   ]
  },
  {
   "cell_type": "code",
   "execution_count": 21,
   "id": "59ac9403",
   "metadata": {},
   "outputs": [
    {
     "data": {
      "text/html": [
       "<div>\n",
       "<style scoped>\n",
       "    .dataframe tbody tr th:only-of-type {\n",
       "        vertical-align: middle;\n",
       "    }\n",
       "\n",
       "    .dataframe tbody tr th {\n",
       "        vertical-align: top;\n",
       "    }\n",
       "\n",
       "    .dataframe thead th {\n",
       "        text-align: right;\n",
       "    }\n",
       "</style>\n",
       "<table border=\"1\" class=\"dataframe\">\n",
       "  <thead>\n",
       "    <tr style=\"text-align: right;\">\n",
       "      <th></th>\n",
       "      <th>car_name</th>\n",
       "      <th>fuel_type</th>\n",
       "      <th>transmission</th>\n",
       "      <th>ownership</th>\n",
       "      <th>year</th>\n",
       "      <th>engine</th>\n",
       "      <th>seats</th>\n",
       "      <th>car_price_usd</th>\n",
       "      <th>miles_driven</th>\n",
       "    </tr>\n",
       "  </thead>\n",
       "  <tbody>\n",
       "    <tr>\n",
       "      <th>0</th>\n",
       "      <td>Jeep Compass 2.0 Longitude Option BSIV</td>\n",
       "      <td>Diesel</td>\n",
       "      <td>Manual</td>\n",
       "      <td>1st Owner</td>\n",
       "      <td>2017</td>\n",
       "      <td>1956 cc</td>\n",
       "      <td>5 Seats</td>\n",
       "      <td>12036.0</td>\n",
       "      <td>52540.95084</td>\n",
       "    </tr>\n",
       "    <tr>\n",
       "      <th>1</th>\n",
       "      <td>Renault Duster RXZ Turbo CVT</td>\n",
       "      <td>Gasoline</td>\n",
       "      <td>Automatic</td>\n",
       "      <td>1st Owner</td>\n",
       "      <td>2021</td>\n",
       "      <td>1330 cc</td>\n",
       "      <td>5 Seats</td>\n",
       "      <td>15396.0</td>\n",
       "      <td>8072.53632</td>\n",
       "    </tr>\n",
       "    <tr>\n",
       "      <th>2</th>\n",
       "      <td>Toyota Camry 2.5 G</td>\n",
       "      <td>Gasoline</td>\n",
       "      <td>Automatic</td>\n",
       "      <td>1st Owner</td>\n",
       "      <td>2016</td>\n",
       "      <td>2494 cc</td>\n",
       "      <td>5 Seats</td>\n",
       "      <td>19680.0</td>\n",
       "      <td>36769.40362</td>\n",
       "    </tr>\n",
       "    <tr>\n",
       "      <th>3</th>\n",
       "      <td>Honda Jazz VX CVT</td>\n",
       "      <td>Gasoline</td>\n",
       "      <td>Automatic</td>\n",
       "      <td>1st Owner</td>\n",
       "      <td>2018</td>\n",
       "      <td>1199 cc</td>\n",
       "      <td>5 Seats</td>\n",
       "      <td>9324.0</td>\n",
       "      <td>16266.94064</td>\n",
       "    </tr>\n",
       "    <tr>\n",
       "      <th>4</th>\n",
       "      <td>Volkswagen Polo 1.2 MPI Highline</td>\n",
       "      <td>Gasoline</td>\n",
       "      <td>Manual</td>\n",
       "      <td>1st Owner</td>\n",
       "      <td>2016</td>\n",
       "      <td>1199 cc</td>\n",
       "      <td>5 Seats</td>\n",
       "      <td>6180.0</td>\n",
       "      <td>42296.72676</td>\n",
       "    </tr>\n",
       "  </tbody>\n",
       "</table>\n",
       "</div>"
      ],
      "text/plain": [
       "                                 car_name fuel_type transmission  ownership  \\\n",
       "0  Jeep Compass 2.0 Longitude Option BSIV    Diesel       Manual  1st Owner   \n",
       "1            Renault Duster RXZ Turbo CVT  Gasoline    Automatic  1st Owner   \n",
       "2                      Toyota Camry 2.5 G  Gasoline    Automatic  1st Owner   \n",
       "3                       Honda Jazz VX CVT  Gasoline    Automatic  1st Owner   \n",
       "4        Volkswagen Polo 1.2 MPI Highline  Gasoline       Manual  1st Owner   \n",
       "\n",
       "   year   engine    seats  car_price_usd  miles_driven  \n",
       "0  2017  1956 cc  5 Seats        12036.0   52540.95084  \n",
       "1  2021  1330 cc  5 Seats        15396.0    8072.53632  \n",
       "2  2016  2494 cc  5 Seats        19680.0   36769.40362  \n",
       "3  2018  1199 cc  5 Seats         9324.0   16266.94064  \n",
       "4  2016  1199 cc  5 Seats         6180.0   42296.72676  "
      ]
     },
     "execution_count": 21,
     "metadata": {},
     "output_type": "execute_result"
    }
   ],
   "source": [
    "df.head()"
   ]
  },
  {
   "cell_type": "markdown",
   "id": "185220b8",
   "metadata": {},
   "source": [
    "## I'm finnaly happy with how the data looks. Finally, I want to save this data into an excel file so that I can upload it to Tableau to do some nice visualizations. I do so by using the following code."
   ]
  },
  {
   "cell_type": "code",
   "execution_count": 23,
   "id": "335e708c",
   "metadata": {},
   "outputs": [],
   "source": [
    "excel_file = r'C:\\Users\\wbouley\\Desktop\\Portfolio\\Excel Files\\used_car_data.xlsx'\n",
    "writer = pd.ExcelWriter(excel_file, engine='xlsxwriter')\n",
    "writer.close()"
   ]
  },
  {
   "cell_type": "code",
   "execution_count": 24,
   "id": "4424aea9",
   "metadata": {},
   "outputs": [],
   "source": [
    "df.to_excel(excel_file, index=False)"
   ]
  },
  {
   "cell_type": "markdown",
   "id": "37eb70f9",
   "metadata": {},
   "source": [
    "## Thanks for following along! I really appreciate it!\n"
   ]
  },
  {
   "cell_type": "markdown",
   "id": "9944ffaa",
   "metadata": {},
   "source": [
    "## Here is a link to the Tableau viz if you want to take a look at it!\n",
    "\n",
    "[Used Car Data Viz](https://public.tableau.com/app/profile/wade.bouley/viz/UsedCarData_16723538293150/Dashboard3#1)\n"
   ]
  },
  {
   "cell_type": "code",
   "execution_count": null,
   "id": "62702782",
   "metadata": {},
   "outputs": [],
   "source": []
  }
 ],
 "metadata": {
  "kernelspec": {
   "display_name": "Python 3",
   "language": "python",
   "name": "python3"
  },
  "language_info": {
   "codemirror_mode": {
    "name": "ipython",
    "version": 3
   },
   "file_extension": ".py",
   "mimetype": "text/x-python",
   "name": "python",
   "nbconvert_exporter": "python",
   "pygments_lexer": "ipython3",
   "version": "3.8.8"
  }
 },
 "nbformat": 4,
 "nbformat_minor": 5
}
