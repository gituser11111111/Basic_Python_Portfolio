{
 "cells": [
  {
   "cell_type": "code",
   "execution_count": 1,
   "metadata": {},
   "outputs": [
    {
     "name": "stdout",
     "output_type": "stream",
     "text": [
      "Person17672\n",
      "People ID#: 5038352\n",
      "4638992319\n",
      "Person17672@example.com\n",
      "Male\n",
      "96790 Example St\n",
      "Bozeman 59715\n",
      "MT\n"
     ]
    }
   ],
   "source": [
    "import random\n",
    "import numpy as np\n",
    "\n",
    "class People:\n",
    "    def __init__(self, name, id_num, phone_num, email, gender, address, city, zip_code, state):\n",
    "        self.name = name\n",
    "        self.id_num = id_num\n",
    "        self.phone_num = phone_num\n",
    "        self.email = email\n",
    "        self.gender = gender\n",
    "        self.address = address\n",
    "        self.city = city\n",
    "        self.zip_code = zip_code\n",
    "        self.state = state\n",
    "\n",
    "people_list = []\n",
    "\n",
    "\n",
    "# generate unique random values for each variable\n",
    "names = random.sample(['Person' + str(i) for i in range(100000)], 100000)\n",
    "id_num = random.sample(range(1000000, 10000000), 100000)\n",
    "phone_nums = random.sample(range(1000000000, 10000000000), 100000)\n",
    "emails = [name + '@example.com' for name in names]\n",
    "addresses = random.sample([str(i) + ' Example St' for i in range(1, 100001)], 100000)\n",
    "genders = random.sample(['Male', 'Female', 'Non-binary', 'Transgender - presents male', 'Transgender - presents female', 'Other'], 6)\n",
    "\n",
    "city_zip = {'Missoula': 59808, 'Butte': 59701, 'Anaconda': 59711, 'Great Falls': 59405, 'Bozeman': 59715, 'Belgrade' : 59714, 'Billings': 59102}\n",
    "\n",
    "\n",
    "state = 'MT'\n",
    "\n",
    "\n",
    "for i in range(100000):\n",
    "    if i%6==0:\n",
    "        gender = 'Male'\n",
    "    elif i%6==1:\n",
    "        gender = 'Female'\n",
    "    elif i%6==2:\n",
    "        gender = 'Non-binary'\n",
    "    elif i%6==3:\n",
    "        gender = 'Transgender - presents male'\n",
    "    elif i%6==4:\n",
    "        gender = 'Transgender - presents female'\n",
    "    else:\n",
    "        gender = 'Other'\n",
    "\n",
    "    city = random.choice(list(city_zip.keys()))\n",
    "    city_zip_code = city_zip[city]\n",
    "\n",
    "    people_list.append(People(names[i], id_num[i], phone_nums[i], emails[i], gender, addresses[i], city, city_zip_code, state))\n",
    "\n",
    "\n",
    "\n",
    "# Print the first element as an example\n",
    "print(people_list[0].name)\n",
    "print(\"People ID#: \" + str(people_list[0].id_num))\n",
    "print(people_list[0].phone_num)\n",
    "print(people_list[0].email)\n",
    "print(people_list[0].gender)\n",
    "print(people_list[0].address)\n",
    "print(people_list[0].city, people_list[0].zip_code)\n",
    "print(people_list[0].state)"
   ]
  },
  {
   "attachments": {},
   "cell_type": "markdown",
   "metadata": {},
   "source": [
    "# turn the list into a dataframe"
   ]
  },
  {
   "cell_type": "code",
   "execution_count": 2,
   "metadata": {},
   "outputs": [],
   "source": [
    "import pandas as pd\n",
    "\n",
    "people_data = [person.__dict__ for person in people_list]\n",
    "\n",
    "people_df = pd.DataFrame(people_data)"
   ]
  },
  {
   "cell_type": "code",
   "execution_count": 3,
   "metadata": {},
   "outputs": [
    {
     "data": {
      "text/html": [
       "<div>\n",
       "<style scoped>\n",
       "    .dataframe tbody tr th:only-of-type {\n",
       "        vertical-align: middle;\n",
       "    }\n",
       "\n",
       "    .dataframe tbody tr th {\n",
       "        vertical-align: top;\n",
       "    }\n",
       "\n",
       "    .dataframe thead th {\n",
       "        text-align: right;\n",
       "    }\n",
       "</style>\n",
       "<table border=\"1\" class=\"dataframe\">\n",
       "  <thead>\n",
       "    <tr style=\"text-align: right;\">\n",
       "      <th></th>\n",
       "      <th>name</th>\n",
       "      <th>id_num</th>\n",
       "      <th>phone_num</th>\n",
       "      <th>email</th>\n",
       "      <th>gender</th>\n",
       "      <th>address</th>\n",
       "      <th>city</th>\n",
       "      <th>zip_code</th>\n",
       "      <th>state</th>\n",
       "    </tr>\n",
       "  </thead>\n",
       "  <tbody>\n",
       "    <tr>\n",
       "      <th>0</th>\n",
       "      <td>Person17672</td>\n",
       "      <td>5038352</td>\n",
       "      <td>4638992319</td>\n",
       "      <td>Person17672@example.com</td>\n",
       "      <td>Male</td>\n",
       "      <td>96790 Example St</td>\n",
       "      <td>Bozeman</td>\n",
       "      <td>59715</td>\n",
       "      <td>MT</td>\n",
       "    </tr>\n",
       "    <tr>\n",
       "      <th>1</th>\n",
       "      <td>Person27698</td>\n",
       "      <td>7214160</td>\n",
       "      <td>7340982266</td>\n",
       "      <td>Person27698@example.com</td>\n",
       "      <td>Female</td>\n",
       "      <td>12507 Example St</td>\n",
       "      <td>Butte</td>\n",
       "      <td>59701</td>\n",
       "      <td>MT</td>\n",
       "    </tr>\n",
       "    <tr>\n",
       "      <th>2</th>\n",
       "      <td>Person36057</td>\n",
       "      <td>5956127</td>\n",
       "      <td>6204749438</td>\n",
       "      <td>Person36057@example.com</td>\n",
       "      <td>Non-binary</td>\n",
       "      <td>40591 Example St</td>\n",
       "      <td>Bozeman</td>\n",
       "      <td>59715</td>\n",
       "      <td>MT</td>\n",
       "    </tr>\n",
       "    <tr>\n",
       "      <th>3</th>\n",
       "      <td>Person73082</td>\n",
       "      <td>1407026</td>\n",
       "      <td>8965324079</td>\n",
       "      <td>Person73082@example.com</td>\n",
       "      <td>Transgender - presents male</td>\n",
       "      <td>75811 Example St</td>\n",
       "      <td>Butte</td>\n",
       "      <td>59701</td>\n",
       "      <td>MT</td>\n",
       "    </tr>\n",
       "    <tr>\n",
       "      <th>4</th>\n",
       "      <td>Person99056</td>\n",
       "      <td>2009008</td>\n",
       "      <td>8344460603</td>\n",
       "      <td>Person99056@example.com</td>\n",
       "      <td>Transgender - presents female</td>\n",
       "      <td>44813 Example St</td>\n",
       "      <td>Great Falls</td>\n",
       "      <td>59405</td>\n",
       "      <td>MT</td>\n",
       "    </tr>\n",
       "  </tbody>\n",
       "</table>\n",
       "</div>"
      ],
      "text/plain": [
       "          name   id_num   phone_num                    email  \\\n",
       "0  Person17672  5038352  4638992319  Person17672@example.com   \n",
       "1  Person27698  7214160  7340982266  Person27698@example.com   \n",
       "2  Person36057  5956127  6204749438  Person36057@example.com   \n",
       "3  Person73082  1407026  8965324079  Person73082@example.com   \n",
       "4  Person99056  2009008  8344460603  Person99056@example.com   \n",
       "\n",
       "                          gender           address         city  zip_code  \\\n",
       "0                           Male  96790 Example St      Bozeman     59715   \n",
       "1                         Female  12507 Example St        Butte     59701   \n",
       "2                     Non-binary  40591 Example St      Bozeman     59715   \n",
       "3    Transgender - presents male  75811 Example St        Butte     59701   \n",
       "4  Transgender - presents female  44813 Example St  Great Falls     59405   \n",
       "\n",
       "  state  \n",
       "0    MT  \n",
       "1    MT  \n",
       "2    MT  \n",
       "3    MT  \n",
       "4    MT  "
      ]
     },
     "execution_count": 3,
     "metadata": {},
     "output_type": "execute_result"
    }
   ],
   "source": [
    "people_df.head()"
   ]
  },
  {
   "attachments": {},
   "cell_type": "markdown",
   "metadata": {},
   "source": [
    "# generate claims dataframe"
   ]
  },
  {
   "cell_type": "code",
   "execution_count": 4,
   "metadata": {},
   "outputs": [],
   "source": [
    "import numpy as np\n",
    "\n",
    "class Claim:\n",
    "    def init(self, id_num ,claim_id_num, event, rate, is_paid, claim_submitted, vendor):\n",
    "        self.people_id_num = id_num\n",
    "        self.claim_id_num = claim_id_num\n",
    "        self.event = event\n",
    "        self.rate = rate\n",
    "        self.is_paid = is_paid\n",
    "        self.claim_submitted = claim_submitted\n",
    "        self.vendor = vendor\n",
    "\n",
    "claim_list = []\n",
    "\n",
    "vendors = ['Medicaid', 'Medicare', 'Self', 'Champus', 'Tricare', 'Veteran']\n",
    "\n",
    "event_rates = {'Individual Psychotherapy' : 100, 'Group Psychotherapy': 200, 'Diagnostic Evaluation': 210, 'Medication Consultation': 150, 'EM Service': 125, 'Treatment Plan Event': 135,\n",
    "'SUD Assessment': 140, 'Med Mangement': 115, 'Counseling Session': 175, 'Crisis Emergency': 300}\n",
    "\n",
    "id_num = np.repeat(people_df['id_num'].to_numpy(), 10)\n",
    "id_num = np.random.permutation(id_num)\n",
    "id_num = id_num[:1000000]\n",
    "claim_id_num = np.arange(1, 1000001)\n",
    "event = np.random.choice(list(event_rates.keys()), 1000000)\n",
    "rate = np.array([event_rates[ev] for ev in event])\n",
    "is_paid = np.random.choice([True, False], 1000000)\n",
    "claim_submitted = np.random.choice([True, False], 1000000)\n",
    "vendor = np.random.choice(vendors, 1000000)"
   ]
  },
  {
   "cell_type": "code",
   "execution_count": 5,
   "metadata": {},
   "outputs": [],
   "source": [
    "claim_data = {'id_num': id_num, 'claim_id_num': claim_id_num, 'event': event, 'rate': rate,\n",
    "'is_paid': is_paid, 'claim_submitted': claim_submitted, 'vendor': vendor}"
   ]
  },
  {
   "cell_type": "code",
   "execution_count": 6,
   "metadata": {},
   "outputs": [],
   "source": [
    "claims_df = pd.DataFrame(claim_data)"
   ]
  },
  {
   "cell_type": "code",
   "execution_count": 7,
   "metadata": {},
   "outputs": [
    {
     "data": {
      "text/html": [
       "<div>\n",
       "<style scoped>\n",
       "    .dataframe tbody tr th:only-of-type {\n",
       "        vertical-align: middle;\n",
       "    }\n",
       "\n",
       "    .dataframe tbody tr th {\n",
       "        vertical-align: top;\n",
       "    }\n",
       "\n",
       "    .dataframe thead th {\n",
       "        text-align: right;\n",
       "    }\n",
       "</style>\n",
       "<table border=\"1\" class=\"dataframe\">\n",
       "  <thead>\n",
       "    <tr style=\"text-align: right;\">\n",
       "      <th></th>\n",
       "      <th>id_num</th>\n",
       "      <th>claim_id_num</th>\n",
       "      <th>event</th>\n",
       "      <th>rate</th>\n",
       "      <th>is_paid</th>\n",
       "      <th>claim_submitted</th>\n",
       "      <th>vendor</th>\n",
       "    </tr>\n",
       "  </thead>\n",
       "  <tbody>\n",
       "    <tr>\n",
       "      <th>0</th>\n",
       "      <td>8505910</td>\n",
       "      <td>1</td>\n",
       "      <td>Crisis Emergency</td>\n",
       "      <td>300</td>\n",
       "      <td>False</td>\n",
       "      <td>True</td>\n",
       "      <td>Veteran</td>\n",
       "    </tr>\n",
       "    <tr>\n",
       "      <th>1</th>\n",
       "      <td>3214705</td>\n",
       "      <td>2</td>\n",
       "      <td>Medication Consultation</td>\n",
       "      <td>150</td>\n",
       "      <td>False</td>\n",
       "      <td>True</td>\n",
       "      <td>Veteran</td>\n",
       "    </tr>\n",
       "    <tr>\n",
       "      <th>2</th>\n",
       "      <td>2745121</td>\n",
       "      <td>3</td>\n",
       "      <td>SUD Assessment</td>\n",
       "      <td>140</td>\n",
       "      <td>True</td>\n",
       "      <td>True</td>\n",
       "      <td>Tricare</td>\n",
       "    </tr>\n",
       "    <tr>\n",
       "      <th>3</th>\n",
       "      <td>7492682</td>\n",
       "      <td>4</td>\n",
       "      <td>Group Psychotherapy</td>\n",
       "      <td>200</td>\n",
       "      <td>False</td>\n",
       "      <td>False</td>\n",
       "      <td>Medicaid</td>\n",
       "    </tr>\n",
       "    <tr>\n",
       "      <th>4</th>\n",
       "      <td>1769107</td>\n",
       "      <td>5</td>\n",
       "      <td>SUD Assessment</td>\n",
       "      <td>140</td>\n",
       "      <td>False</td>\n",
       "      <td>True</td>\n",
       "      <td>Medicaid</td>\n",
       "    </tr>\n",
       "  </tbody>\n",
       "</table>\n",
       "</div>"
      ],
      "text/plain": [
       "    id_num  claim_id_num                    event  rate  is_paid  \\\n",
       "0  8505910             1         Crisis Emergency   300    False   \n",
       "1  3214705             2  Medication Consultation   150    False   \n",
       "2  2745121             3           SUD Assessment   140     True   \n",
       "3  7492682             4      Group Psychotherapy   200    False   \n",
       "4  1769107             5           SUD Assessment   140    False   \n",
       "\n",
       "   claim_submitted    vendor  \n",
       "0             True   Veteran  \n",
       "1             True   Veteran  \n",
       "2             True   Tricare  \n",
       "3            False  Medicaid  \n",
       "4             True  Medicaid  "
      ]
     },
     "execution_count": 7,
     "metadata": {},
     "output_type": "execute_result"
    }
   ],
   "source": [
    "claims_df.head(\n",
    ")"
   ]
  },
  {
   "cell_type": "code",
   "execution_count": 8,
   "metadata": {},
   "outputs": [
    {
     "data": {
      "text/plain": [
       "100000"
      ]
     },
     "execution_count": 8,
     "metadata": {},
     "output_type": "execute_result"
    }
   ],
   "source": [
    "claims_df.id_num.nunique()"
   ]
  },
  {
   "cell_type": "code",
   "execution_count": 9,
   "metadata": {},
   "outputs": [
    {
     "data": {
      "text/plain": [
       "100000"
      ]
     },
     "execution_count": 9,
     "metadata": {},
     "output_type": "execute_result"
    }
   ],
   "source": [
    "people_df.id_num.nunique()"
   ]
  },
  {
   "cell_type": "code",
   "execution_count": 10,
   "metadata": {},
   "outputs": [],
   "source": [
    "result = pd.merge(claims_df, people_df, on='id_num')"
   ]
  },
  {
   "cell_type": "code",
   "execution_count": 11,
   "metadata": {},
   "outputs": [
    {
     "data": {
      "text/html": [
       "<div>\n",
       "<style scoped>\n",
       "    .dataframe tbody tr th:only-of-type {\n",
       "        vertical-align: middle;\n",
       "    }\n",
       "\n",
       "    .dataframe tbody tr th {\n",
       "        vertical-align: top;\n",
       "    }\n",
       "\n",
       "    .dataframe thead th {\n",
       "        text-align: right;\n",
       "    }\n",
       "</style>\n",
       "<table border=\"1\" class=\"dataframe\">\n",
       "  <thead>\n",
       "    <tr style=\"text-align: right;\">\n",
       "      <th></th>\n",
       "      <th>id_num</th>\n",
       "      <th>claim_id_num</th>\n",
       "      <th>event</th>\n",
       "      <th>rate</th>\n",
       "      <th>is_paid</th>\n",
       "      <th>claim_submitted</th>\n",
       "      <th>vendor</th>\n",
       "      <th>name</th>\n",
       "      <th>phone_num</th>\n",
       "      <th>email</th>\n",
       "      <th>gender</th>\n",
       "      <th>address</th>\n",
       "      <th>city</th>\n",
       "      <th>zip_code</th>\n",
       "      <th>state</th>\n",
       "    </tr>\n",
       "  </thead>\n",
       "  <tbody>\n",
       "    <tr>\n",
       "      <th>0</th>\n",
       "      <td>8505910</td>\n",
       "      <td>1</td>\n",
       "      <td>Crisis Emergency</td>\n",
       "      <td>300</td>\n",
       "      <td>False</td>\n",
       "      <td>True</td>\n",
       "      <td>Veteran</td>\n",
       "      <td>Person96186</td>\n",
       "      <td>6062593809</td>\n",
       "      <td>Person96186@example.com</td>\n",
       "      <td>Male</td>\n",
       "      <td>54764 Example St</td>\n",
       "      <td>Missoula</td>\n",
       "      <td>59808</td>\n",
       "      <td>MT</td>\n",
       "    </tr>\n",
       "    <tr>\n",
       "      <th>1</th>\n",
       "      <td>8505910</td>\n",
       "      <td>46968</td>\n",
       "      <td>Treatment Plan Event</td>\n",
       "      <td>135</td>\n",
       "      <td>False</td>\n",
       "      <td>True</td>\n",
       "      <td>Self</td>\n",
       "      <td>Person96186</td>\n",
       "      <td>6062593809</td>\n",
       "      <td>Person96186@example.com</td>\n",
       "      <td>Male</td>\n",
       "      <td>54764 Example St</td>\n",
       "      <td>Missoula</td>\n",
       "      <td>59808</td>\n",
       "      <td>MT</td>\n",
       "    </tr>\n",
       "    <tr>\n",
       "      <th>2</th>\n",
       "      <td>8505910</td>\n",
       "      <td>213021</td>\n",
       "      <td>Med Mangement</td>\n",
       "      <td>115</td>\n",
       "      <td>True</td>\n",
       "      <td>False</td>\n",
       "      <td>Medicaid</td>\n",
       "      <td>Person96186</td>\n",
       "      <td>6062593809</td>\n",
       "      <td>Person96186@example.com</td>\n",
       "      <td>Male</td>\n",
       "      <td>54764 Example St</td>\n",
       "      <td>Missoula</td>\n",
       "      <td>59808</td>\n",
       "      <td>MT</td>\n",
       "    </tr>\n",
       "    <tr>\n",
       "      <th>3</th>\n",
       "      <td>8505910</td>\n",
       "      <td>273605</td>\n",
       "      <td>EM Service</td>\n",
       "      <td>125</td>\n",
       "      <td>False</td>\n",
       "      <td>True</td>\n",
       "      <td>Self</td>\n",
       "      <td>Person96186</td>\n",
       "      <td>6062593809</td>\n",
       "      <td>Person96186@example.com</td>\n",
       "      <td>Male</td>\n",
       "      <td>54764 Example St</td>\n",
       "      <td>Missoula</td>\n",
       "      <td>59808</td>\n",
       "      <td>MT</td>\n",
       "    </tr>\n",
       "    <tr>\n",
       "      <th>4</th>\n",
       "      <td>8505910</td>\n",
       "      <td>421077</td>\n",
       "      <td>Med Mangement</td>\n",
       "      <td>115</td>\n",
       "      <td>True</td>\n",
       "      <td>False</td>\n",
       "      <td>Medicare</td>\n",
       "      <td>Person96186</td>\n",
       "      <td>6062593809</td>\n",
       "      <td>Person96186@example.com</td>\n",
       "      <td>Male</td>\n",
       "      <td>54764 Example St</td>\n",
       "      <td>Missoula</td>\n",
       "      <td>59808</td>\n",
       "      <td>MT</td>\n",
       "    </tr>\n",
       "  </tbody>\n",
       "</table>\n",
       "</div>"
      ],
      "text/plain": [
       "    id_num  claim_id_num                 event  rate  is_paid  \\\n",
       "0  8505910             1      Crisis Emergency   300    False   \n",
       "1  8505910         46968  Treatment Plan Event   135    False   \n",
       "2  8505910        213021         Med Mangement   115     True   \n",
       "3  8505910        273605            EM Service   125    False   \n",
       "4  8505910        421077         Med Mangement   115     True   \n",
       "\n",
       "   claim_submitted    vendor         name   phone_num  \\\n",
       "0             True   Veteran  Person96186  6062593809   \n",
       "1             True      Self  Person96186  6062593809   \n",
       "2            False  Medicaid  Person96186  6062593809   \n",
       "3             True      Self  Person96186  6062593809   \n",
       "4            False  Medicare  Person96186  6062593809   \n",
       "\n",
       "                     email gender           address      city  zip_code state  \n",
       "0  Person96186@example.com   Male  54764 Example St  Missoula     59808    MT  \n",
       "1  Person96186@example.com   Male  54764 Example St  Missoula     59808    MT  \n",
       "2  Person96186@example.com   Male  54764 Example St  Missoula     59808    MT  \n",
       "3  Person96186@example.com   Male  54764 Example St  Missoula     59808    MT  \n",
       "4  Person96186@example.com   Male  54764 Example St  Missoula     59808    MT  "
      ]
     },
     "execution_count": 11,
     "metadata": {},
     "output_type": "execute_result"
    }
   ],
   "source": [
    "result.head()"
   ]
  },
  {
   "cell_type": "code",
   "execution_count": 12,
   "metadata": {},
   "outputs": [
    {
     "data": {
      "text/html": [
       "<div>\n",
       "<style scoped>\n",
       "    .dataframe tbody tr th:only-of-type {\n",
       "        vertical-align: middle;\n",
       "    }\n",
       "\n",
       "    .dataframe tbody tr th {\n",
       "        vertical-align: top;\n",
       "    }\n",
       "\n",
       "    .dataframe thead th {\n",
       "        text-align: right;\n",
       "    }\n",
       "</style>\n",
       "<table border=\"1\" class=\"dataframe\">\n",
       "  <thead>\n",
       "    <tr style=\"text-align: right;\">\n",
       "      <th></th>\n",
       "      <th>id_num</th>\n",
       "      <th>claim_id_num</th>\n",
       "      <th>event</th>\n",
       "      <th>rate</th>\n",
       "      <th>is_paid</th>\n",
       "      <th>claim_submitted</th>\n",
       "      <th>vendor</th>\n",
       "      <th>name</th>\n",
       "      <th>phone_num</th>\n",
       "      <th>email</th>\n",
       "      <th>gender</th>\n",
       "      <th>address</th>\n",
       "      <th>city</th>\n",
       "      <th>zip_code</th>\n",
       "      <th>state</th>\n",
       "    </tr>\n",
       "  </thead>\n",
       "  <tbody>\n",
       "  </tbody>\n",
       "</table>\n",
       "</div>"
      ],
      "text/plain": [
       "Empty DataFrame\n",
       "Columns: [id_num, claim_id_num, event, rate, is_paid, claim_submitted, vendor, name, phone_num, email, gender, address, city, zip_code, state]\n",
       "Index: []"
      ]
     },
     "execution_count": 12,
     "metadata": {},
     "output_type": "execute_result"
    }
   ],
   "source": [
    "filtered_df = result[result['id_num'] == 1508091]\n",
    "\n",
    "filtered_df"
   ]
  },
  {
   "cell_type": "code",
   "execution_count": 31,
   "metadata": {},
   "outputs": [],
   "source": [
    "result['claim_submitted'] = np.where(result['is_paid'], True, result['claim_submitted'])\n"
   ]
  },
  {
   "cell_type": "code",
   "execution_count": 32,
   "metadata": {},
   "outputs": [],
   "source": [
    "pd.options.display.max_columns = None"
   ]
  },
  {
   "cell_type": "code",
   "execution_count": 33,
   "metadata": {},
   "outputs": [],
   "source": [
    "df = pd.DataFrame(result)"
   ]
  },
  {
   "cell_type": "code",
   "execution_count": 38,
   "metadata": {},
   "outputs": [],
   "source": [
    "df.to_excel(r'C:\\Users\\wbouley\\Desktop\\Portfolio\\Projects\\database_build.xlsx')"
   ]
  },
  {
   "cell_type": "code",
   "execution_count": 43,
   "metadata": {},
   "outputs": [],
   "source": [
    "df2 = df[df['city'] == 'Belgrade']"
   ]
  },
  {
   "cell_type": "code",
   "execution_count": 44,
   "metadata": {},
   "outputs": [
    {
     "data": {
      "text/plain": [
       "(142000, 15)"
      ]
     },
     "execution_count": 44,
     "metadata": {},
     "output_type": "execute_result"
    }
   ],
   "source": [
    "df2.shape"
   ]
  },
  {
   "cell_type": "code",
   "execution_count": null,
   "metadata": {},
   "outputs": [],
   "source": []
  }
 ],
 "metadata": {
  "kernelspec": {
   "display_name": "Python 3",
   "language": "python",
   "name": "python3"
  },
  "language_info": {
   "codemirror_mode": {
    "name": "ipython",
    "version": 3
   },
   "file_extension": ".py",
   "mimetype": "text/x-python",
   "name": "python",
   "nbconvert_exporter": "python",
   "pygments_lexer": "ipython3",
   "version": "3.10.0"
  },
  "orig_nbformat": 4,
  "vscode": {
   "interpreter": {
    "hash": "3ed7ce5c4756891c1b12b0dbf433f78513dee9dd445d310ff70c68795f885187"
   }
  }
 },
 "nbformat": 4,
 "nbformat_minor": 2
}
